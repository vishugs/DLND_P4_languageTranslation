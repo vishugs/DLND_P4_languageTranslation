{
 "cells": [
  {
   "cell_type": "markdown",
   "metadata": {
    "collapsed": true,
    "deletable": true,
    "editable": true
   },
   "source": [
    "# Language Translation\n",
    "In this project, you’re going to take a peek into the realm of neural network machine translation.  You’ll be training a sequence to sequence model on a dataset of English and French sentences that can translate new sentences from English to French.\n",
    "## Get the Data\n",
    "Since translating the whole language of English to French will take lots of time to train, we have provided you with a small portion of the English corpus."
   ]
  },
  {
   "cell_type": "code",
   "execution_count": 1,
   "metadata": {
    "collapsed": true,
    "deletable": true,
    "editable": true
   },
   "outputs": [],
   "source": [
    "import helper\n",
    "import problem_unittests as tests\n",
    "\n",
    "source_path = 'data/small_vocab_en'\n",
    "target_path = 'data/small_vocab_fr'\n",
    "source_text = helper.load_data(source_path)\n",
    "target_text = helper.load_data(target_path)"
   ]
  },
  {
   "cell_type": "markdown",
   "metadata": {
    "deletable": true,
    "editable": true
   },
   "source": [
    "## Explore the Data\n",
    "Play around with view_sentence_range to view different parts of the data."
   ]
  },
  {
   "cell_type": "code",
   "execution_count": 2,
   "metadata": {
    "collapsed": false,
    "deletable": true,
    "editable": true
   },
   "outputs": [
    {
     "name": "stdout",
     "output_type": "stream",
     "text": [
      "Dataset Stats\n",
      "Roughly the number of unique words: 227\n",
      "Number of sentences: 137861\n",
      "Average number of words in a sentence: 13.225277634719028\n",
      "\n",
      "English sentences 0 to 10:\n",
      "new jersey is sometimes quiet during autumn , and it is snowy in april .\n",
      "the united states is usually chilly during july , and it is usually freezing in november .\n",
      "california is usually quiet during march , and it is usually hot in june .\n",
      "the united states is sometimes mild during june , and it is cold in september .\n",
      "your least liked fruit is the grape , but my least liked is the apple .\n",
      "his favorite fruit is the orange , but my favorite is the grape .\n",
      "paris is relaxing during december , but it is usually chilly in july .\n",
      "new jersey is busy during spring , and it is never hot in march .\n",
      "our least liked fruit is the lemon , but my least liked is the grape .\n",
      "the united states is sometimes busy during january , and it is sometimes warm in november .\n",
      "\n",
      "French sentences 0 to 10:\n",
      "new jersey est parfois calme pendant l' automne , et il est neigeux en avril .\n",
      "les états-unis est généralement froid en juillet , et il gèle habituellement en novembre .\n",
      "california est généralement calme en mars , et il est généralement chaud en juin .\n",
      "les états-unis est parfois légère en juin , et il fait froid en septembre .\n",
      "votre moins aimé fruit est le raisin , mais mon moins aimé est la pomme .\n",
      "son fruit préféré est l'orange , mais mon préféré est le raisin .\n",
      "paris est relaxant en décembre , mais il est généralement froid en juillet .\n",
      "new jersey est occupé au printemps , et il est jamais chaude en mars .\n",
      "notre fruit est moins aimé le citron , mais mon moins aimé est le raisin .\n",
      "les états-unis est parfois occupé en janvier , et il est parfois chaud en novembre .\n"
     ]
    }
   ],
   "source": [
    "view_sentence_range = (0, 10)\n",
    "\n",
    "import numpy as np\n",
    "\n",
    "print('Dataset Stats')\n",
    "print('Roughly the number of unique words: {}'.format(len({word: None for word in source_text.split()})))\n",
    "\n",
    "sentences = source_text.split('\\n')\n",
    "word_counts = [len(sentence.split()) for sentence in sentences]\n",
    "print('Number of sentences: {}'.format(len(sentences)))\n",
    "print('Average number of words in a sentence: {}'.format(np.average(word_counts)))\n",
    "\n",
    "print()\n",
    "print('English sentences {} to {}:'.format(*view_sentence_range))\n",
    "print('\\n'.join(source_text.split('\\n')[view_sentence_range[0]:view_sentence_range[1]]))\n",
    "print()\n",
    "print('French sentences {} to {}:'.format(*view_sentence_range))\n",
    "print('\\n'.join(target_text.split('\\n')[view_sentence_range[0]:view_sentence_range[1]]))"
   ]
  },
  {
   "cell_type": "markdown",
   "metadata": {
    "deletable": true,
    "editable": true
   },
   "source": [
    "## Implement Preprocessing Function\n",
    "### Text to Word Ids\n",
    "Turning the text into a number so the computer can understand it. In the function `text_to_ids()`, `source_text` and `target_text` are turned from words to ids.  However, we need to add the `<EOS>` word id at the end of `target_text` to help the neural network predict when the sentence should end.\n",
    "\n",
    "You can get the `<EOS>` word id by doing:\n",
    "```python\n",
    "target_vocab_to_int['<EOS>']\n",
    "```\n",
    "You can get other word ids using `source_vocab_to_int` and `target_vocab_to_int`."
   ]
  },
  {
   "cell_type": "code",
   "execution_count": 3,
   "metadata": {
    "collapsed": false,
    "deletable": true,
    "editable": true
   },
   "outputs": [
    {
     "name": "stdout",
     "output_type": "stream",
     "text": [
      "Tests Passed\n"
     ]
    }
   ],
   "source": [
    "def text_to_ids(source_text, target_text, source_vocab_to_int, target_vocab_to_int):\n",
    "    \"\"\"\n",
    "    Convert source and target text to proper word ids\n",
    "    :param source_text: String that contains all the source text.\n",
    "    :param target_text: String that contains all the target text.\n",
    "    :param source_vocab_to_int: Dictionary to go from the source words to an id\n",
    "    :param target_vocab_to_int: Dictionary to go from the target words to an id\n",
    "    :return: A tuple of lists (source_id_text, target_id_text)\n",
    "    \"\"\"\n",
    "    source_lines = [sentence for sentence in source_text.split('\\n')]\n",
    "    target_lines = [sentence + ' <EOS>' for sentence in target_text.split('\\n')]\n",
    "    \n",
    "    source_id_text = [[source_vocab_to_int[word] for word in sentence.split()] for sentence in source_lines]\n",
    "    target_id_text = [[target_vocab_to_int[word] for word in sentence.split()] for sentence in target_lines]\n",
    "    \n",
    "    return source_id_text, target_id_text\n",
    "\n",
    "tests.test_text_to_ids(text_to_ids)"
   ]
  },
  {
   "cell_type": "markdown",
   "metadata": {
    "deletable": true,
    "editable": true
   },
   "source": [
    "### Preprocess all the data and save it\n",
    "Running the code cell below will preprocess all the data and save it to file."
   ]
  },
  {
   "cell_type": "code",
   "execution_count": 4,
   "metadata": {
    "collapsed": true,
    "deletable": true,
    "editable": true
   },
   "outputs": [],
   "source": [
    "helper.preprocess_and_save_data(source_path, target_path, text_to_ids)"
   ]
  },
  {
   "cell_type": "markdown",
   "metadata": {
    "deletable": true,
    "editable": true
   },
   "source": [
    "# Check Point\n",
    "This is your first checkpoint. If you ever decide to come back to this notebook or have to restart the notebook, you can start from here. The preprocessed data has been saved to disk."
   ]
  },
  {
   "cell_type": "code",
   "execution_count": 5,
   "metadata": {
    "collapsed": true,
    "deletable": true,
    "editable": true
   },
   "outputs": [],
   "source": [
    "import numpy as np\n",
    "import helper\n",
    "import problem_unittests as tests\n",
    "\n",
    "(source_int_text, target_int_text), (source_vocab_to_int, target_vocab_to_int), _ = helper.load_preprocess()"
   ]
  },
  {
   "cell_type": "markdown",
   "metadata": {
    "deletable": true,
    "editable": true
   },
   "source": [
    "### Check the Version of TensorFlow and Access to GPU\n",
    "This will check to make sure you have the correct version of TensorFlow and access to a GPU"
   ]
  },
  {
   "cell_type": "code",
   "execution_count": 6,
   "metadata": {
    "collapsed": false,
    "deletable": true,
    "editable": true
   },
   "outputs": [
    {
     "name": "stdout",
     "output_type": "stream",
     "text": [
      "TensorFlow Version: 1.2.1\n",
      "Default GPU Device: /gpu:0\n"
     ]
    }
   ],
   "source": [
    "\"\"\"\n",
    "DON'T MODIFY ANYTHING IN THIS CELL\n",
    "\"\"\"\n",
    "from distutils.version import LooseVersion\n",
    "import warnings\n",
    "import tensorflow as tf\n",
    "from tensorflow.python.layers.core import Dense\n",
    "\n",
    "# Check TensorFlow Version\n",
    "assert LooseVersion(tf.__version__) >= LooseVersion('1.1'), 'Please use TensorFlow version 1.1 or newer'\n",
    "print('TensorFlow Version: {}'.format(tf.__version__))\n",
    "\n",
    "# Check for a GPU\n",
    "if not tf.test.gpu_device_name():\n",
    "    warnings.warn('No GPU found. Please use a GPU to train your neural network.')\n",
    "else:\n",
    "    print('Default GPU Device: {}'.format(tf.test.gpu_device_name()))"
   ]
  },
  {
   "cell_type": "markdown",
   "metadata": {
    "deletable": true,
    "editable": true
   },
   "source": [
    "## Build the Neural Network\n",
    "You'll build the components necessary to build a Sequence-to-Sequence model by implementing the following functions below:\n",
    "- `model_inputs`\n",
    "- `process_decoder_input`\n",
    "- `encoding_layer`\n",
    "- `decoding_layer_train`\n",
    "- `decoding_layer_infer`\n",
    "- `decoding_layer`\n",
    "- `seq2seq_model`\n",
    "\n",
    "### Input\n",
    "Implement the `model_inputs()` function to create TF Placeholders for the Neural Network. It should create the following placeholders:\n",
    "\n",
    "- Input text placeholder named \"input\" using the TF Placeholder name parameter with rank 2.\n",
    "- Targets placeholder with rank 2.\n",
    "- Learning rate placeholder with rank 0.\n",
    "- Keep probability placeholder named \"keep_prob\" using the TF Placeholder name parameter with rank 0.\n",
    "- Target sequence length placeholder named \"target_sequence_length\" with rank 1\n",
    "- Max target sequence length tensor named \"max_target_len\" getting its value from applying tf.reduce_max on the target_sequence_length placeholder. Rank 0.\n",
    "- Source sequence length placeholder named \"source_sequence_length\" with rank 1\n",
    "\n",
    "Return the placeholders in the following the tuple (input, targets, learning rate, keep probability, target sequence length, max target sequence length, source sequence length)"
   ]
  },
  {
   "cell_type": "code",
   "execution_count": 7,
   "metadata": {
    "collapsed": false,
    "deletable": true,
    "editable": true
   },
   "outputs": [
    {
     "name": "stdout",
     "output_type": "stream",
     "text": [
      "ERROR:tensorflow:==================================\n",
      "Object was never used (type <class 'tensorflow.python.framework.ops.Operation'>):\n",
      "<tf.Operation 'assert_rank_2/Assert/Assert' type=Assert>\n",
      "If you want to mark it as used call its \"mark_used()\" method.\n",
      "It was originally created here:\n",
      "['File \"/home/carnd/anaconda3/envs/dl/lib/python3.5/runpy.py\", line 184, in _run_module_as_main\\n    \"__main__\", mod_spec)', 'File \"/home/carnd/anaconda3/envs/dl/lib/python3.5/runpy.py\", line 85, in _run_code\\n    exec(code, run_globals)', 'File \"/home/carnd/anaconda3/envs/dl/lib/python3.5/site-packages/ipykernel/__main__.py\", line 3, in <module>\\n    app.launch_new_instance()', 'File \"/home/carnd/anaconda3/envs/dl/lib/python3.5/site-packages/traitlets/config/application.py\", line 658, in launch_instance\\n    app.start()', 'File \"/home/carnd/anaconda3/envs/dl/lib/python3.5/site-packages/ipykernel/kernelapp.py\", line 474, in start\\n    ioloop.IOLoop.instance().start()', 'File \"/home/carnd/anaconda3/envs/dl/lib/python3.5/site-packages/zmq/eventloop/ioloop.py\", line 177, in start\\n    super(ZMQIOLoop, self).start()', 'File \"/home/carnd/anaconda3/envs/dl/lib/python3.5/site-packages/tornado/ioloop.py\", line 887, in start\\n    handler_func(fd_obj, events)', 'File \"/home/carnd/anaconda3/envs/dl/lib/python3.5/site-packages/tornado/stack_context.py\", line 275, in null_wrapper\\n    return fn(*args, **kwargs)', 'File \"/home/carnd/anaconda3/envs/dl/lib/python3.5/site-packages/zmq/eventloop/zmqstream.py\", line 440, in _handle_events\\n    self._handle_recv()', 'File \"/home/carnd/anaconda3/envs/dl/lib/python3.5/site-packages/zmq/eventloop/zmqstream.py\", line 472, in _handle_recv\\n    self._run_callback(callback, msg)', 'File \"/home/carnd/anaconda3/envs/dl/lib/python3.5/site-packages/zmq/eventloop/zmqstream.py\", line 414, in _run_callback\\n    callback(*args, **kwargs)', 'File \"/home/carnd/anaconda3/envs/dl/lib/python3.5/site-packages/tornado/stack_context.py\", line 275, in null_wrapper\\n    return fn(*args, **kwargs)', 'File \"/home/carnd/anaconda3/envs/dl/lib/python3.5/site-packages/ipykernel/kernelbase.py\", line 276, in dispatcher\\n    return self.dispatch_shell(stream, msg)', 'File \"/home/carnd/anaconda3/envs/dl/lib/python3.5/site-packages/ipykernel/kernelbase.py\", line 228, in dispatch_shell\\n    handler(stream, idents, msg)', 'File \"/home/carnd/anaconda3/envs/dl/lib/python3.5/site-packages/ipykernel/kernelbase.py\", line 390, in execute_request\\n    user_expressions, allow_stdin)', 'File \"/home/carnd/anaconda3/envs/dl/lib/python3.5/site-packages/ipykernel/ipkernel.py\", line 196, in do_execute\\n    res = shell.run_cell(code, store_history=store_history, silent=silent)', 'File \"/home/carnd/anaconda3/envs/dl/lib/python3.5/site-packages/ipykernel/zmqshell.py\", line 501, in run_cell\\n    return super(ZMQInteractiveShell, self).run_cell(*args, **kwargs)', 'File \"/home/carnd/anaconda3/envs/dl/lib/python3.5/site-packages/IPython/core/interactiveshell.py\", line 2717, in run_cell\\n    interactivity=interactivity, compiler=compiler, result=result)', 'File \"/home/carnd/anaconda3/envs/dl/lib/python3.5/site-packages/IPython/core/interactiveshell.py\", line 2827, in run_ast_nodes\\n    if self.run_code(code, result):', 'File \"/home/carnd/anaconda3/envs/dl/lib/python3.5/site-packages/IPython/core/interactiveshell.py\", line 2881, in run_code\\n    exec(code_obj, self.user_global_ns, self.user_ns)', 'File \"<ipython-input-7-84bdd03ff7cb>\", line 16, in <module>\\n    tests.test_model_inputs(model_inputs)', 'File \"/home/carnd/dlnd_my_proj/DLND_P4_languageTranslation/problem_unittests.py\", line 106, in test_model_inputs\\n    assert tf.assert_rank(lr, 0, message=\\'Learning Rate has wrong rank\\')', 'File \"/home/carnd/anaconda3/envs/dl/lib/python3.5/site-packages/tensorflow/python/ops/check_ops.py\", line 617, in assert_rank\\n    dynamic_condition, data, summarize)', 'File \"/home/carnd/anaconda3/envs/dl/lib/python3.5/site-packages/tensorflow/python/ops/check_ops.py\", line 571, in _assert_rank_condition\\n    return control_flow_ops.Assert(condition, data, summarize=summarize)', 'File \"/home/carnd/anaconda3/envs/dl/lib/python3.5/site-packages/tensorflow/python/util/tf_should_use.py\", line 170, in wrapped\\n    return _add_should_use_warning(fn(*args, **kwargs))', 'File \"/home/carnd/anaconda3/envs/dl/lib/python3.5/site-packages/tensorflow/python/util/tf_should_use.py\", line 139, in _add_should_use_warning\\n    wrapped = TFShouldUseWarningWrapper(x)', 'File \"/home/carnd/anaconda3/envs/dl/lib/python3.5/site-packages/tensorflow/python/util/tf_should_use.py\", line 96, in __init__\\n    stack = [s.strip() for s in traceback.format_stack()]']\n",
      "==================================\n",
      "ERROR:tensorflow:==================================\n",
      "Object was never used (type <class 'tensorflow.python.framework.ops.Operation'>):\n",
      "<tf.Operation 'assert_rank_3/Assert/Assert' type=Assert>\n",
      "If you want to mark it as used call its \"mark_used()\" method.\n",
      "It was originally created here:\n",
      "['File \"/home/carnd/anaconda3/envs/dl/lib/python3.5/runpy.py\", line 184, in _run_module_as_main\\n    \"__main__\", mod_spec)', 'File \"/home/carnd/anaconda3/envs/dl/lib/python3.5/runpy.py\", line 85, in _run_code\\n    exec(code, run_globals)', 'File \"/home/carnd/anaconda3/envs/dl/lib/python3.5/site-packages/ipykernel/__main__.py\", line 3, in <module>\\n    app.launch_new_instance()', 'File \"/home/carnd/anaconda3/envs/dl/lib/python3.5/site-packages/traitlets/config/application.py\", line 658, in launch_instance\\n    app.start()', 'File \"/home/carnd/anaconda3/envs/dl/lib/python3.5/site-packages/ipykernel/kernelapp.py\", line 474, in start\\n    ioloop.IOLoop.instance().start()', 'File \"/home/carnd/anaconda3/envs/dl/lib/python3.5/site-packages/zmq/eventloop/ioloop.py\", line 177, in start\\n    super(ZMQIOLoop, self).start()', 'File \"/home/carnd/anaconda3/envs/dl/lib/python3.5/site-packages/tornado/ioloop.py\", line 887, in start\\n    handler_func(fd_obj, events)', 'File \"/home/carnd/anaconda3/envs/dl/lib/python3.5/site-packages/tornado/stack_context.py\", line 275, in null_wrapper\\n    return fn(*args, **kwargs)', 'File \"/home/carnd/anaconda3/envs/dl/lib/python3.5/site-packages/zmq/eventloop/zmqstream.py\", line 440, in _handle_events\\n    self._handle_recv()', 'File \"/home/carnd/anaconda3/envs/dl/lib/python3.5/site-packages/zmq/eventloop/zmqstream.py\", line 472, in _handle_recv\\n    self._run_callback(callback, msg)', 'File \"/home/carnd/anaconda3/envs/dl/lib/python3.5/site-packages/zmq/eventloop/zmqstream.py\", line 414, in _run_callback\\n    callback(*args, **kwargs)', 'File \"/home/carnd/anaconda3/envs/dl/lib/python3.5/site-packages/tornado/stack_context.py\", line 275, in null_wrapper\\n    return fn(*args, **kwargs)', 'File \"/home/carnd/anaconda3/envs/dl/lib/python3.5/site-packages/ipykernel/kernelbase.py\", line 276, in dispatcher\\n    return self.dispatch_shell(stream, msg)', 'File \"/home/carnd/anaconda3/envs/dl/lib/python3.5/site-packages/ipykernel/kernelbase.py\", line 228, in dispatch_shell\\n    handler(stream, idents, msg)', 'File \"/home/carnd/anaconda3/envs/dl/lib/python3.5/site-packages/ipykernel/kernelbase.py\", line 390, in execute_request\\n    user_expressions, allow_stdin)', 'File \"/home/carnd/anaconda3/envs/dl/lib/python3.5/site-packages/ipykernel/ipkernel.py\", line 196, in do_execute\\n    res = shell.run_cell(code, store_history=store_history, silent=silent)', 'File \"/home/carnd/anaconda3/envs/dl/lib/python3.5/site-packages/ipykernel/zmqshell.py\", line 501, in run_cell\\n    return super(ZMQInteractiveShell, self).run_cell(*args, **kwargs)', 'File \"/home/carnd/anaconda3/envs/dl/lib/python3.5/site-packages/IPython/core/interactiveshell.py\", line 2717, in run_cell\\n    interactivity=interactivity, compiler=compiler, result=result)', 'File \"/home/carnd/anaconda3/envs/dl/lib/python3.5/site-packages/IPython/core/interactiveshell.py\", line 2827, in run_ast_nodes\\n    if self.run_code(code, result):', 'File \"/home/carnd/anaconda3/envs/dl/lib/python3.5/site-packages/IPython/core/interactiveshell.py\", line 2881, in run_code\\n    exec(code_obj, self.user_global_ns, self.user_ns)', 'File \"<ipython-input-7-84bdd03ff7cb>\", line 16, in <module>\\n    tests.test_model_inputs(model_inputs)', 'File \"/home/carnd/dlnd_my_proj/DLND_P4_languageTranslation/problem_unittests.py\", line 107, in test_model_inputs\\n    assert tf.assert_rank(keep_prob, 0, message=\\'Keep Probability has wrong rank\\')', 'File \"/home/carnd/anaconda3/envs/dl/lib/python3.5/site-packages/tensorflow/python/ops/check_ops.py\", line 617, in assert_rank\\n    dynamic_condition, data, summarize)', 'File \"/home/carnd/anaconda3/envs/dl/lib/python3.5/site-packages/tensorflow/python/ops/check_ops.py\", line 571, in _assert_rank_condition\\n    return control_flow_ops.Assert(condition, data, summarize=summarize)', 'File \"/home/carnd/anaconda3/envs/dl/lib/python3.5/site-packages/tensorflow/python/util/tf_should_use.py\", line 170, in wrapped\\n    return _add_should_use_warning(fn(*args, **kwargs))', 'File \"/home/carnd/anaconda3/envs/dl/lib/python3.5/site-packages/tensorflow/python/util/tf_should_use.py\", line 139, in _add_should_use_warning\\n    wrapped = TFShouldUseWarningWrapper(x)', 'File \"/home/carnd/anaconda3/envs/dl/lib/python3.5/site-packages/tensorflow/python/util/tf_should_use.py\", line 96, in __init__\\n    stack = [s.strip() for s in traceback.format_stack()]']\n",
      "==================================\n",
      "Tests Passed\n"
     ]
    }
   ],
   "source": [
    "def model_inputs():\n",
    "    \"\"\"\n",
    "    Create TF Placeholders for input, targets, learning rate, and lengths of source and target sequences.\n",
    "    :return: Tuple (input, targets, learning rate, keep probability, target sequence length,\n",
    "    max target sequence length, source sequence length)\n",
    "    \"\"\"\n",
    "    inputs = tf.placeholder(tf.int32, shape=(None, None), name='input')\n",
    "    targets = tf.placeholder(tf.int32, shape=(None, None))\n",
    "    learning_rate = tf.placeholder(tf.float32)\n",
    "    keep_prob = tf.placeholder(tf.float32, name='keep_prob')\n",
    "    target_sequence_length = tf.placeholder(tf.int32, shape=(None,), name='target_sequence_length')\n",
    "    max_target_len = tf.reduce_max(target_sequence_length)\n",
    "    source_sequence_length = tf.placeholder(tf.int32, shape=(None,), name='source_sequence_length')\n",
    "    return (inputs, targets, learning_rate, keep_prob, target_sequence_length, max_target_len, source_sequence_length)\n",
    "\n",
    "tests.test_model_inputs(model_inputs)"
   ]
  },
  {
   "cell_type": "markdown",
   "metadata": {
    "deletable": true,
    "editable": true
   },
   "source": [
    "### Process Decoder Input\n",
    "Implement `process_decoder_input` by removing the last word id from each batch in `target_data` and concat the GO ID to the begining of each batch."
   ]
  },
  {
   "cell_type": "code",
   "execution_count": 8,
   "metadata": {
    "collapsed": false,
    "deletable": true,
    "editable": true
   },
   "outputs": [
    {
     "name": "stdout",
     "output_type": "stream",
     "text": [
      "Tests Passed\n"
     ]
    }
   ],
   "source": [
    "def process_decoder_input(target_data, target_vocab_to_int, batch_size):\n",
    "    \"\"\"\n",
    "    Preprocess target data for encoding\n",
    "    :param target_data: Target Placehoder\n",
    "    :param target_vocab_to_int: Dictionary to go from the target words to an id\n",
    "    :param batch_size: Batch Size\n",
    "    :return: Preprocessed target data\n",
    "    \"\"\"\n",
    "    ending = tf.strided_slice(target_data, [0, 0], [batch_size, -1], [1, 1])\n",
    "    dec_input = tf.concat([tf.fill([batch_size, 1], target_vocab_to_int['<GO>']), ending], 1)\n",
    "\n",
    "    return dec_input\n",
    "\n",
    "tests.test_process_encoding_input(process_decoder_input)"
   ]
  },
  {
   "cell_type": "markdown",
   "metadata": {
    "deletable": true,
    "editable": true
   },
   "source": [
    "### Encoding\n",
    "Implement `encoding_layer()` to create a Encoder RNN layer:\n",
    " * Embed the encoder input using [`tf.contrib.layers.embed_sequence`](https://www.tensorflow.org/api_docs/python/tf/contrib/layers/embed_sequence)\n",
    " * Construct a [stacked](https://github.com/tensorflow/tensorflow/blob/6947f65a374ebf29e74bb71e36fd82760056d82c/tensorflow/docs_src/tutorials/recurrent.md#stacking-multiple-lstms) [`tf.contrib.rnn.LSTMCell`](https://www.tensorflow.org/api_docs/python/tf/contrib/rnn/LSTMCell) wrapped in a [`tf.contrib.rnn.DropoutWrapper`](https://www.tensorflow.org/api_docs/python/tf/contrib/rnn/DropoutWrapper)\n",
    " * Pass cell and embedded input to [`tf.nn.dynamic_rnn()`](https://www.tensorflow.org/api_docs/python/tf/nn/dynamic_rnn)"
   ]
  },
  {
   "cell_type": "code",
   "execution_count": 9,
   "metadata": {
    "collapsed": false,
    "deletable": true,
    "editable": true,
    "scrolled": false
   },
   "outputs": [
    {
     "name": "stdout",
     "output_type": "stream",
     "text": [
      "Tests Passed\n"
     ]
    }
   ],
   "source": [
    "from imp import reload\n",
    "reload(tests)\n",
    "\n",
    "def encoding_layer(rnn_inputs, rnn_size, num_layers, keep_prob, \n",
    "                   source_sequence_length, source_vocab_size, \n",
    "                   encoding_embedding_size):\n",
    "    \"\"\"\n",
    "    Create encoding layer\n",
    "    :param rnn_inputs: Inputs for the RNN\n",
    "    :param rnn_size: RNN Size\n",
    "    :param num_layers: Number of layers\n",
    "    :param keep_prob: Dropout keep probability\n",
    "    :param source_sequence_length: a list of the lengths of each sequence in the batch\n",
    "    :param source_vocab_size: vocabulary size of source data\n",
    "    :param encoding_embedding_size: embedding size of source data\n",
    "    :return: tuple (RNN output, RNN state)\n",
    "    \"\"\"\n",
    "    # Encoder embedding\n",
    "    enc_embed_input = tf.contrib.layers.embed_sequence(rnn_inputs, source_vocab_size, encoding_embedding_size)\n",
    "\n",
    "    # RNN cell\n",
    "    def make_cell(rnn_size):\n",
    "        enc_cell = tf.contrib.rnn.LSTMCell(rnn_size,\n",
    "                                           initializer=tf.random_uniform_initializer(-0.1, 0.1, seed=2))\n",
    "        return enc_cell\n",
    "\n",
    "    enc_cell = tf.contrib.rnn.MultiRNNCell([make_cell(rnn_size) for _ in range(num_layers)])\n",
    "    \n",
    "    enc_output, enc_state = tf.nn.dynamic_rnn(enc_cell, enc_embed_input, sequence_length=source_sequence_length, dtype=tf.float32)\n",
    "    \n",
    "    return enc_output, enc_state\n",
    "\n",
    "tests.test_encoding_layer(encoding_layer)"
   ]
  },
  {
   "cell_type": "markdown",
   "metadata": {
    "deletable": true,
    "editable": true
   },
   "source": [
    "### Decoding - Training\n",
    "Create a training decoding layer:\n",
    "* Create a [`tf.contrib.seq2seq.TrainingHelper`](https://www.tensorflow.org/api_docs/python/tf/contrib/seq2seq/TrainingHelper) \n",
    "* Create a [`tf.contrib.seq2seq.BasicDecoder`](https://www.tensorflow.org/api_docs/python/tf/contrib/seq2seq/BasicDecoder)\n",
    "* Obtain the decoder outputs from [`tf.contrib.seq2seq.dynamic_decode`](https://www.tensorflow.org/api_docs/python/tf/contrib/seq2seq/dynamic_decode)"
   ]
  },
  {
   "cell_type": "code",
   "execution_count": 10,
   "metadata": {
    "collapsed": false,
    "deletable": true,
    "editable": true
   },
   "outputs": [
    {
     "name": "stdout",
     "output_type": "stream",
     "text": [
      "Tests Passed\n"
     ]
    }
   ],
   "source": [
    "\n",
    "def decoding_layer_train(encoder_state, dec_cell, dec_embed_input, \n",
    "                         target_sequence_length, max_summary_length, \n",
    "                         output_layer, keep_prob):\n",
    "    \"\"\"\n",
    "    Create a decoding layer for training\n",
    "    :param encoder_state: Encoder State\n",
    "    :param dec_cell: Decoder RNN Cell\n",
    "    :param dec_embed_input: Decoder embedded input\n",
    "    :param target_sequence_length: The lengths of each sequence in the target batch\n",
    "    :param max_summary_length: The length of the longest sequence in the batch\n",
    "    :param output_layer: Function to apply the output layer\n",
    "    :param keep_prob: Dropout keep probability\n",
    "    :return: BasicDecoderOutput containing training logits and sample_id\n",
    "    \"\"\"\n",
    "    training_helper = tf.contrib.seq2seq.TrainingHelper(dec_embed_input, target_sequence_length, time_major=False)\n",
    "    training_decoder = tf.contrib.seq2seq.BasicDecoder(dec_cell, training_helper, encoder_state, output_layer) \n",
    "    training_decoder_output = tf.contrib.seq2seq.dynamic_decode(training_decoder, impute_finished=True,\n",
    "                                                                maximum_iterations=max_summary_length)[0]\n",
    "    return training_decoder_output\n",
    "    \n",
    "tests.test_decoding_layer_train(decoding_layer_train)"
   ]
  },
  {
   "cell_type": "markdown",
   "metadata": {
    "deletable": true,
    "editable": true
   },
   "source": [
    "### Decoding - Inference\n",
    "Create inference decoder:\n",
    "* Create a [`tf.contrib.seq2seq.GreedyEmbeddingHelper`](https://www.tensorflow.org/api_docs/python/tf/contrib/seq2seq/GreedyEmbeddingHelper)\n",
    "* Create a [`tf.contrib.seq2seq.BasicDecoder`](https://www.tensorflow.org/api_docs/python/tf/contrib/seq2seq/BasicDecoder)\n",
    "* Obtain the decoder outputs from [`tf.contrib.seq2seq.dynamic_decode`](https://www.tensorflow.org/api_docs/python/tf/contrib/seq2seq/dynamic_decode)"
   ]
  },
  {
   "cell_type": "code",
   "execution_count": 11,
   "metadata": {
    "collapsed": false,
    "deletable": true,
    "editable": true,
    "scrolled": true
   },
   "outputs": [
    {
     "name": "stdout",
     "output_type": "stream",
     "text": [
      "Tests Passed\n"
     ]
    }
   ],
   "source": [
    "def decoding_layer_infer(encoder_state, dec_cell, dec_embeddings, start_of_sequence_id,\n",
    "                         end_of_sequence_id, max_target_sequence_length,\n",
    "                         vocab_size, output_layer, batch_size, keep_prob):\n",
    "    \"\"\"\n",
    "    Create a decoding layer for inference\n",
    "    :param encoder_state: Encoder state\n",
    "    :param dec_cell: Decoder RNN Cell\n",
    "    :param dec_embeddings: Decoder embeddings\n",
    "    :param start_of_sequence_id: GO ID\n",
    "    :param end_of_sequence_id: EOS Id\n",
    "    :param max_target_sequence_length: Maximum length of target sequences\n",
    "    :param vocab_size: Size of decoder/target vocabulary\n",
    "    :param decoding_scope: TenorFlow Variable Scope for decoding\n",
    "    :param output_layer: Function to apply the output layer\n",
    "    :param batch_size: Batch size\n",
    "    :param keep_prob: Dropout keep probability\n",
    "    :return: BasicDecoderOutput containing inference logits and sample_id\n",
    "    \"\"\"\n",
    "    start_tokens = tf.tile([start_of_sequence_id], [batch_size], name='start_tokens')\n",
    "    inference_helper = tf.contrib.seq2seq.GreedyEmbeddingHelper(dec_embeddings, start_tokens, \n",
    "                                                                end_of_sequence_id)\n",
    "    inference_decoder = tf.contrib.seq2seq.BasicDecoder(dec_cell, inference_helper, encoder_state, output_layer)\n",
    "    inference_decoder_output = tf.contrib.seq2seq.dynamic_decode(inference_decoder, impute_finished=True,\n",
    "                                                            maximum_iterations=max_target_sequence_length)[0]\n",
    "         \n",
    "    return inference_decoder_output\n",
    "\n",
    "tests.test_decoding_layer_infer(decoding_layer_infer)"
   ]
  },
  {
   "cell_type": "markdown",
   "metadata": {
    "deletable": true,
    "editable": true
   },
   "source": [
    "### Build the Decoding Layer\n",
    "Implement `decoding_layer()` to create a Decoder RNN layer.\n",
    "\n",
    "* Embed the target sequences\n",
    "* Construct the decoder LSTM cell (just like you constructed the encoder cell above)\n",
    "* Create an output layer to map the outputs of the decoder to the elements of our vocabulary\n",
    "* Use the your `decoding_layer_train(encoder_state, dec_cell, dec_embed_input, target_sequence_length, max_target_sequence_length, output_layer, keep_prob)` function to get the training logits.\n",
    "* Use your `decoding_layer_infer(encoder_state, dec_cell, dec_embeddings, start_of_sequence_id, end_of_sequence_id, max_target_sequence_length, vocab_size, output_layer, batch_size, keep_prob)` function to get the inference logits.\n",
    "\n",
    "Note: You'll need to use [tf.variable_scope](https://www.tensorflow.org/api_docs/python/tf/variable_scope) to share variables between training and inference."
   ]
  },
  {
   "cell_type": "code",
   "execution_count": 12,
   "metadata": {
    "collapsed": false,
    "deletable": true,
    "editable": true
   },
   "outputs": [
    {
     "name": "stdout",
     "output_type": "stream",
     "text": [
      "Tests Passed\n"
     ]
    }
   ],
   "source": [
    "def decoding_layer(dec_input, encoder_state,\n",
    "                   target_sequence_length, max_target_sequence_length,\n",
    "                   rnn_size,\n",
    "                   num_layers, target_vocab_to_int, target_vocab_size,\n",
    "                   batch_size, keep_prob, decoding_embedding_size):\n",
    "    \"\"\"\n",
    "    Create decoding layer\n",
    "    :param dec_input: Decoder input\n",
    "    :param encoder_state: Encoder state\n",
    "    :param target_sequence_length: The lengths of each sequence in the target batch\n",
    "    :param max_target_sequence_length: Maximum length of target sequences\n",
    "    :param rnn_size: RNN Size\n",
    "    :param num_layers: Number of layers\n",
    "    :param target_vocab_to_int: Dictionary to go from the target words to an id\n",
    "    :param target_vocab_size: Size of target vocabulary\n",
    "    :param batch_size: The size of the batch\n",
    "    :param keep_prob: Dropout keep probability\n",
    "    :param decoding_embedding_size: Decoding embedding size\n",
    "    :return: Tuple of (Training BasicDecoderOutput, Inference BasicDecoderOutput)\n",
    "    \"\"\"\n",
    "    \n",
    "    dec_embeddings = tf.Variable(tf.random_uniform([target_vocab_size, decoding_embedding_size]))\n",
    "    dec_embed_input = tf.nn.embedding_lookup(dec_embeddings, dec_input)\n",
    "    \n",
    "    # Decoder Embedding\n",
    "    def make_cell(rnn_size):\n",
    "        dec_cell = tf.contrib.rnn.LSTMCell(rnn_size,\n",
    "                                           initializer=tf.random_uniform_initializer(-0.1, 0.1, seed=2))\n",
    "        return dec_cell\n",
    "\n",
    "    dec_cell = tf.contrib.rnn.MultiRNNCell([make_cell(rnn_size) for _ in range(num_layers)])\n",
    "        \n",
    "    \n",
    "    # Dense layer to translate the decoder's output at each time step into a choice from the target vocabulary\n",
    "    output_layer = Dense(target_vocab_size,\n",
    "                         kernel_initializer = tf.truncated_normal_initializer(mean = 0.0, stddev=0.1))\n",
    "    \n",
    "    #I guess my implementation is correct since I am using the tf.varibale_scope which is asked to be used and then\n",
    "    # there is no mention of decoding_scope.reuse_variables() in project rubric! I am confused.\n",
    "    \n",
    "    with tf.variable_scope(\"decode\"):\n",
    "        training_logits = decoding_layer_train(encoder_state, dec_cell, dec_embed_input, target_sequence_length, \n",
    "                                         max_target_sequence_length, output_layer, keep_prob)\n",
    "\n",
    "    with tf.variable_scope(\"decode\", reuse=True):\n",
    "        start_of_sequence_id = target_vocab_to_int['<GO>']\n",
    "        end_of_sequence_id = target_vocab_to_int['<EOS>']\n",
    "\n",
    "        inference_logits = decoding_layer_infer(encoder_state, dec_cell, dec_embeddings, start_of_sequence_id,\n",
    "                                             end_of_sequence_id, max_target_sequence_length,\n",
    "                                             target_vocab_size, output_layer, batch_size, keep_prob)\n",
    "    \n",
    "    return training_logits, inference_logits\n",
    "\n",
    "\n",
    "    \n",
    "tests.test_decoding_layer(decoding_layer)"
   ]
  },
  {
   "cell_type": "markdown",
   "metadata": {
    "deletable": true,
    "editable": true
   },
   "source": [
    "### Build the Neural Network\n",
    "Apply the functions you implemented above to:\n",
    "\n",
    "- Encode the input using your `encoding_layer(rnn_inputs, rnn_size, num_layers, keep_prob,  source_sequence_length, source_vocab_size, encoding_embedding_size)`.\n",
    "- Process target data using your `process_decoder_input(target_data, target_vocab_to_int, batch_size)` function.\n",
    "- Decode the encoded input using your `decoding_layer(dec_input, enc_state, target_sequence_length, max_target_sentence_length, rnn_size, num_layers, target_vocab_to_int, target_vocab_size, batch_size, keep_prob, dec_embedding_size)` function."
   ]
  },
  {
   "cell_type": "code",
   "execution_count": 15,
   "metadata": {
    "collapsed": false,
    "deletable": true,
    "editable": true
   },
   "outputs": [
    {
     "name": "stdout",
     "output_type": "stream",
     "text": [
      "Tests Passed\n"
     ]
    }
   ],
   "source": [
    "def seq2seq_model(input_data, target_data, keep_prob, batch_size,\n",
    "                  source_sequence_length, target_sequence_length,\n",
    "                  max_target_sentence_length,\n",
    "                  source_vocab_size, target_vocab_size,\n",
    "                  enc_embedding_size, dec_embedding_size,\n",
    "                  rnn_size, num_layers, target_vocab_to_int):\n",
    "    \"\"\"\n",
    "    Build the Sequence-to-Sequence part of the neural network\n",
    "    :param input_data: Input placeholder\n",
    "    :param target_data: Target placeholder\n",
    "    :param keep_prob: Dropout keep probability placeholder\n",
    "    :param batch_size: Batch Size\n",
    "    :param source_sequence_length: Sequence Lengths of source sequences in the batch\n",
    "    :param target_sequence_length: Sequence Lengths of target sequences in the batch\n",
    "    :param source_vocab_size: Source vocabulary size\n",
    "    :param target_vocab_size: Target vocabulary size\n",
    "    :param enc_embedding_size: Decoder embedding size\n",
    "    :param dec_embedding_size: Encoder embedding size\n",
    "    :param rnn_size: RNN Size\n",
    "    :param num_layers: Number of layers\n",
    "    :param target_vocab_to_int: Dictionary to go from the target words to an id\n",
    "    :return: Tuple of (Training BasicDecoderOutput, Inference BasicDecoderOutput)\n",
    "    \"\"\"\n",
    "    # Pass the input data through the encoder. We'll ignore the encoder output, but use the state\n",
    "    _, enc_state = encoding_layer(input_data, \n",
    "                                  rnn_size, \n",
    "                                  num_layers, \n",
    "                                  keep_prob,\n",
    "                                  source_sequence_length,\n",
    "                                  source_vocab_size, \n",
    "                                  enc_embedding_size)\n",
    "    \n",
    "    # Prepare the target sequences we'll feed to the decoder in training mode\n",
    "    dec_input = process_decoder_input(target_data, target_vocab_to_int, batch_size)\n",
    "    \n",
    "    # Pass encoder state and decoder inputs to the decoders\n",
    "    training_decoder_output, inference_decoder_output = decoding_layer(dec_input, enc_state, target_sequence_length,\n",
    "                                                                       max_target_sentence_length, rnn_size,\n",
    "                                                                       num_layers, target_vocab_to_int, \n",
    "                                                                       target_vocab_size,\n",
    "                                                                       batch_size, keep_prob, dec_embedding_size)\n",
    "                                                                       \n",
    "                                                                       \n",
    "    \n",
    "    return training_decoder_output, inference_decoder_output\n",
    "\n",
    "\n",
    "\"\"\"\n",
    "DON'T MODIFY ANYTHING IN THIS CELL THAT IS BELOW THIS LINE\n",
    "\"\"\"\n",
    "tests.test_seq2seq_model(seq2seq_model)"
   ]
  },
  {
   "cell_type": "markdown",
   "metadata": {
    "deletable": true,
    "editable": true
   },
   "source": [
    "## Neural Network Training\n",
    "### Hyperparameters\n",
    "Tune the following parameters:\n",
    "\n",
    "- Set `epochs` to the number of epochs.\n",
    "- Set `batch_size` to the batch size.\n",
    "- Set `rnn_size` to the size of the RNNs.\n",
    "- Set `num_layers` to the number of layers.\n",
    "- Set `encoding_embedding_size` to the size of the embedding for the encoder.\n",
    "- Set `decoding_embedding_size` to the size of the embedding for the decoder.\n",
    "- Set `learning_rate` to the learning rate.\n",
    "- Set `keep_probability` to the Dropout keep probability\n",
    "- Set `display_step` to state how many steps between each debug output statement"
   ]
  },
  {
   "cell_type": "code",
   "execution_count": 16,
   "metadata": {
    "collapsed": true,
    "deletable": true,
    "editable": true
   },
   "outputs": [],
   "source": [
    "# Number of Epochs\n",
    "epochs = 5\n",
    "# Batch Size\n",
    "batch_size = 256\n",
    "# RNN Size\n",
    "rnn_size = 256\n",
    "# Number of Layers\n",
    "num_layers = 2\n",
    "# Embedding Size\n",
    "encoding_embedding_size = 128\n",
    "decoding_embedding_size = 128\n",
    "# Learning Rate\n",
    "learning_rate = 0.001\n",
    "# Dropout Keep Probability\n",
    "keep_probability = 0.5\n",
    "\n",
    "display_step = 10"
   ]
  },
  {
   "cell_type": "markdown",
   "metadata": {
    "deletable": true,
    "editable": true
   },
   "source": [
    "### Build the Graph\n",
    "Build the graph using the neural network you implemented."
   ]
  },
  {
   "cell_type": "code",
   "execution_count": 17,
   "metadata": {
    "collapsed": false,
    "deletable": true,
    "editable": true
   },
   "outputs": [],
   "source": [
    "\"\"\"\n",
    "DON'T MODIFY ANYTHING IN THIS CELL\n",
    "\"\"\"\n",
    "save_path = 'checkpoints/dev'\n",
    "(source_int_text, target_int_text), (source_vocab_to_int, target_vocab_to_int), _ = helper.load_preprocess()\n",
    "max_target_sentence_length = max([len(sentence) for sentence in source_int_text])\n",
    "\n",
    "train_graph = tf.Graph()\n",
    "with train_graph.as_default():\n",
    "    input_data, targets, lr, keep_prob, target_sequence_length, max_target_sequence_length, source_sequence_length = model_inputs()\n",
    "\n",
    "    #sequence_length = tf.placeholder_with_default(max_target_sentence_length, None, name='sequence_length')\n",
    "    input_shape = tf.shape(input_data)\n",
    "\n",
    "    train_logits, inference_logits = seq2seq_model(tf.reverse(input_data, [-1]),\n",
    "                                                   targets,\n",
    "                                                   keep_prob,\n",
    "                                                   batch_size,\n",
    "                                                   source_sequence_length,\n",
    "                                                   target_sequence_length,\n",
    "                                                   max_target_sequence_length,\n",
    "                                                   len(source_vocab_to_int),\n",
    "                                                   len(target_vocab_to_int),\n",
    "                                                   encoding_embedding_size,\n",
    "                                                   decoding_embedding_size,\n",
    "                                                   rnn_size,\n",
    "                                                   num_layers,\n",
    "                                                   target_vocab_to_int)\n",
    "\n",
    "\n",
    "    training_logits = tf.identity(train_logits.rnn_output, name='logits')\n",
    "    inference_logits = tf.identity(inference_logits.sample_id, name='predictions')\n",
    "\n",
    "    masks = tf.sequence_mask(target_sequence_length, max_target_sequence_length, dtype=tf.float32, name='masks')\n",
    "\n",
    "    with tf.name_scope(\"optimization\"):\n",
    "        # Loss function\n",
    "        cost = tf.contrib.seq2seq.sequence_loss(\n",
    "            training_logits,\n",
    "            targets,\n",
    "            masks)\n",
    "\n",
    "        # Optimizer\n",
    "        optimizer = tf.train.AdamOptimizer(lr)\n",
    "\n",
    "        # Gradient Clipping\n",
    "        gradients = optimizer.compute_gradients(cost)\n",
    "        capped_gradients = [(tf.clip_by_value(grad, -1., 1.), var) for grad, var in gradients if grad is not None]\n",
    "        train_op = optimizer.apply_gradients(capped_gradients)\n"
   ]
  },
  {
   "cell_type": "markdown",
   "metadata": {
    "deletable": true,
    "editable": true
   },
   "source": [
    "Batch and pad the source and target sequences"
   ]
  },
  {
   "cell_type": "code",
   "execution_count": 18,
   "metadata": {
    "collapsed": true,
    "deletable": true,
    "editable": true
   },
   "outputs": [],
   "source": [
    "\"\"\"\n",
    "DON'T MODIFY ANYTHING IN THIS CELL\n",
    "\"\"\"\n",
    "def pad_sentence_batch(sentence_batch, pad_int):\n",
    "    \"\"\"Pad sentences with <PAD> so that each sentence of a batch has the same length\"\"\"\n",
    "    max_sentence = max([len(sentence) for sentence in sentence_batch])\n",
    "    return [sentence + [pad_int] * (max_sentence - len(sentence)) for sentence in sentence_batch]\n",
    "\n",
    "\n",
    "def get_batches(sources, targets, batch_size, source_pad_int, target_pad_int):\n",
    "    \"\"\"Batch targets, sources, and the lengths of their sentences together\"\"\"\n",
    "    for batch_i in range(0, len(sources)//batch_size):\n",
    "        start_i = batch_i * batch_size\n",
    "\n",
    "        # Slice the right amount for the batch\n",
    "        sources_batch = sources[start_i:start_i + batch_size]\n",
    "        targets_batch = targets[start_i:start_i + batch_size]\n",
    "\n",
    "        # Pad\n",
    "        pad_sources_batch = np.array(pad_sentence_batch(sources_batch, source_pad_int))\n",
    "        pad_targets_batch = np.array(pad_sentence_batch(targets_batch, target_pad_int))\n",
    "\n",
    "        # Need the lengths for the _lengths parameters\n",
    "        pad_targets_lengths = []\n",
    "        for target in pad_targets_batch:\n",
    "            pad_targets_lengths.append(len(target))\n",
    "\n",
    "        pad_source_lengths = []\n",
    "        for source in pad_sources_batch:\n",
    "            pad_source_lengths.append(len(source))\n",
    "\n",
    "        yield pad_sources_batch, pad_targets_batch, pad_source_lengths, pad_targets_lengths\n"
   ]
  },
  {
   "cell_type": "markdown",
   "metadata": {
    "deletable": true,
    "editable": true
   },
   "source": [
    "### Train\n",
    "Train the neural network on the preprocessed data. If you have a hard time getting a good loss, check the forms to see if anyone is having the same problem."
   ]
  },
  {
   "cell_type": "code",
   "execution_count": 19,
   "metadata": {
    "collapsed": false,
    "deletable": true,
    "editable": true,
    "scrolled": true
   },
   "outputs": [
    {
     "name": "stdout",
     "output_type": "stream",
     "text": [
      "Epoch   0 Batch   10/538 - Train Accuracy: 0.2963, Validation Accuracy: 0.3778, Loss: 3.5544\n",
      "Epoch   0 Batch   20/538 - Train Accuracy: 0.3854, Validation Accuracy: 0.4267, Loss: 2.7698\n",
      "Epoch   0 Batch   30/538 - Train Accuracy: 0.4062, Validation Accuracy: 0.4702, Loss: 2.6380\n",
      "Epoch   0 Batch   40/538 - Train Accuracy: 0.4684, Validation Accuracy: 0.4709, Loss: 2.1991\n",
      "Epoch   0 Batch   50/538 - Train Accuracy: 0.4562, Validation Accuracy: 0.5016, Loss: 2.2412\n",
      "Epoch   0 Batch   60/538 - Train Accuracy: 0.4719, Validation Accuracy: 0.5238, Loss: 2.0645\n",
      "Epoch   0 Batch   70/538 - Train Accuracy: 0.4980, Validation Accuracy: 0.5270, Loss: 1.8239\n",
      "Epoch   0 Batch   80/538 - Train Accuracy: 0.4221, Validation Accuracy: 0.4929, Loss: 1.8035\n",
      "Epoch   0 Batch   90/538 - Train Accuracy: 0.4645, Validation Accuracy: 0.4959, Loss: 1.6516\n",
      "Epoch   0 Batch  100/538 - Train Accuracy: 0.4855, Validation Accuracy: 0.5304, Loss: 1.5607\n",
      "Epoch   0 Batch  110/538 - Train Accuracy: 0.4738, Validation Accuracy: 0.5318, Loss: 1.5304\n",
      "Epoch   0 Batch  120/538 - Train Accuracy: 0.4354, Validation Accuracy: 0.4874, Loss: 1.4222\n",
      "Epoch   0 Batch  130/538 - Train Accuracy: 0.4927, Validation Accuracy: 0.5241, Loss: 1.3108\n",
      "Epoch   0 Batch  140/538 - Train Accuracy: 0.4439, Validation Accuracy: 0.5176, Loss: 1.3649\n",
      "Epoch   0 Batch  150/538 - Train Accuracy: 0.4965, Validation Accuracy: 0.5314, Loss: 1.2511\n",
      "Epoch   0 Batch  160/538 - Train Accuracy: 0.4907, Validation Accuracy: 0.5273, Loss: 1.1417\n",
      "Epoch   0 Batch  170/538 - Train Accuracy: 0.4807, Validation Accuracy: 0.5025, Loss: 1.1145\n",
      "Epoch   0 Batch  180/538 - Train Accuracy: 0.4870, Validation Accuracy: 0.5204, Loss: 1.0686\n",
      "Epoch   0 Batch  190/538 - Train Accuracy: 0.4883, Validation Accuracy: 0.5270, Loss: 1.0570\n",
      "Epoch   0 Batch  200/538 - Train Accuracy: 0.4924, Validation Accuracy: 0.5265, Loss: 1.0036\n",
      "Epoch   0 Batch  210/538 - Train Accuracy: 0.5275, Validation Accuracy: 0.5570, Loss: 0.9470\n",
      "Epoch   0 Batch  220/538 - Train Accuracy: 0.5288, Validation Accuracy: 0.5733, Loss: 0.9208\n",
      "Epoch   0 Batch  230/538 - Train Accuracy: 0.5369, Validation Accuracy: 0.5661, Loss: 0.9000\n",
      "Epoch   0 Batch  240/538 - Train Accuracy: 0.5477, Validation Accuracy: 0.5662, Loss: 0.8832\n",
      "Epoch   0 Batch  250/538 - Train Accuracy: 0.5699, Validation Accuracy: 0.5911, Loss: 0.8235\n",
      "Epoch   0 Batch  260/538 - Train Accuracy: 0.5672, Validation Accuracy: 0.5804, Loss: 0.8094\n",
      "Epoch   0 Batch  270/538 - Train Accuracy: 0.5687, Validation Accuracy: 0.5895, Loss: 0.7897\n",
      "Epoch   0 Batch  280/538 - Train Accuracy: 0.6120, Validation Accuracy: 0.6049, Loss: 0.7443\n",
      "Epoch   0 Batch  290/538 - Train Accuracy: 0.5633, Validation Accuracy: 0.6112, Loss: 0.7497\n",
      "Epoch   0 Batch  300/538 - Train Accuracy: 0.6183, Validation Accuracy: 0.6222, Loss: 0.7128\n",
      "Epoch   0 Batch  310/538 - Train Accuracy: 0.6100, Validation Accuracy: 0.6268, Loss: 0.7000\n",
      "Epoch   0 Batch  320/538 - Train Accuracy: 0.6168, Validation Accuracy: 0.6358, Loss: 0.6827\n",
      "Epoch   0 Batch  330/538 - Train Accuracy: 0.6189, Validation Accuracy: 0.6266, Loss: 0.6581\n",
      "Epoch   0 Batch  340/538 - Train Accuracy: 0.5957, Validation Accuracy: 0.6261, Loss: 0.6901\n",
      "Epoch   0 Batch  350/538 - Train Accuracy: 0.6226, Validation Accuracy: 0.6497, Loss: 0.6523\n",
      "Epoch   0 Batch  360/538 - Train Accuracy: 0.6189, Validation Accuracy: 0.6440, Loss: 0.6513\n",
      "Epoch   0 Batch  370/538 - Train Accuracy: 0.5914, Validation Accuracy: 0.6325, Loss: 0.6432\n",
      "Epoch   0 Batch  380/538 - Train Accuracy: 0.6094, Validation Accuracy: 0.6234, Loss: 0.6030\n",
      "Epoch   0 Batch  390/538 - Train Accuracy: 0.6471, Validation Accuracy: 0.6415, Loss: 0.5820\n",
      "Epoch   0 Batch  400/538 - Train Accuracy: 0.6161, Validation Accuracy: 0.6319, Loss: 0.5686\n",
      "Epoch   0 Batch  410/538 - Train Accuracy: 0.6180, Validation Accuracy: 0.6477, Loss: 0.5843\n",
      "Epoch   0 Batch  420/538 - Train Accuracy: 0.6359, Validation Accuracy: 0.6600, Loss: 0.5606\n",
      "Epoch   0 Batch  430/538 - Train Accuracy: 0.6250, Validation Accuracy: 0.6506, Loss: 0.5493\n",
      "Epoch   0 Batch  440/538 - Train Accuracy: 0.6605, Validation Accuracy: 0.6515, Loss: 0.5636\n",
      "Epoch   0 Batch  450/538 - Train Accuracy: 0.6717, Validation Accuracy: 0.6541, Loss: 0.5329\n",
      "Epoch   0 Batch  460/538 - Train Accuracy: 0.6375, Validation Accuracy: 0.6634, Loss: 0.5037\n",
      "Epoch   0 Batch  470/538 - Train Accuracy: 0.6594, Validation Accuracy: 0.6594, Loss: 0.4801\n",
      "Epoch   0 Batch  480/538 - Train Accuracy: 0.6663, Validation Accuracy: 0.6665, Loss: 0.4720\n",
      "Epoch   0 Batch  490/538 - Train Accuracy: 0.7065, Validation Accuracy: 0.6804, Loss: 0.4671\n",
      "Epoch   0 Batch  500/538 - Train Accuracy: 0.7090, Validation Accuracy: 0.6784, Loss: 0.4243\n",
      "Epoch   0 Batch  510/538 - Train Accuracy: 0.6966, Validation Accuracy: 0.6902, Loss: 0.4344\n",
      "Epoch   0 Batch  520/538 - Train Accuracy: 0.6857, Validation Accuracy: 0.6948, Loss: 0.4542\n",
      "Epoch   0 Batch  530/538 - Train Accuracy: 0.6717, Validation Accuracy: 0.6962, Loss: 0.4500\n",
      "Epoch   1 Batch   10/538 - Train Accuracy: 0.6953, Validation Accuracy: 0.7184, Loss: 0.4260\n",
      "Epoch   1 Batch   20/538 - Train Accuracy: 0.7295, Validation Accuracy: 0.6987, Loss: 0.4011\n",
      "Epoch   1 Batch   30/538 - Train Accuracy: 0.7115, Validation Accuracy: 0.7331, Loss: 0.4091\n",
      "Epoch   1 Batch   40/538 - Train Accuracy: 0.7459, Validation Accuracy: 0.7214, Loss: 0.3327\n",
      "Epoch   1 Batch   50/538 - Train Accuracy: 0.7646, Validation Accuracy: 0.7386, Loss: 0.3680\n",
      "Epoch   1 Batch   60/538 - Train Accuracy: 0.7494, Validation Accuracy: 0.7340, Loss: 0.3690\n",
      "Epoch   1 Batch   70/538 - Train Accuracy: 0.7351, Validation Accuracy: 0.7594, Loss: 0.3354\n",
      "Epoch   1 Batch   80/538 - Train Accuracy: 0.7635, Validation Accuracy: 0.7791, Loss: 0.3466\n",
      "Epoch   1 Batch   90/538 - Train Accuracy: 0.7669, Validation Accuracy: 0.7575, Loss: 0.3183\n",
      "Epoch   1 Batch  100/538 - Train Accuracy: 0.8104, Validation Accuracy: 0.7884, Loss: 0.3092\n",
      "Epoch   1 Batch  110/538 - Train Accuracy: 0.7824, Validation Accuracy: 0.7958, Loss: 0.3106\n",
      "Epoch   1 Batch  120/538 - Train Accuracy: 0.8178, Validation Accuracy: 0.8043, Loss: 0.2724\n",
      "Epoch   1 Batch  130/538 - Train Accuracy: 0.8183, Validation Accuracy: 0.8002, Loss: 0.2664\n",
      "Epoch   1 Batch  140/538 - Train Accuracy: 0.7791, Validation Accuracy: 0.7928, Loss: 0.2902\n",
      "Epoch   1 Batch  150/538 - Train Accuracy: 0.8074, Validation Accuracy: 0.7836, Loss: 0.2639\n",
      "Epoch   1 Batch  160/538 - Train Accuracy: 0.8426, Validation Accuracy: 0.8145, Loss: 0.2310\n",
      "Epoch   1 Batch  170/538 - Train Accuracy: 0.8192, Validation Accuracy: 0.8201, Loss: 0.2449\n",
      "Epoch   1 Batch  180/538 - Train Accuracy: 0.8603, Validation Accuracy: 0.8322, Loss: 0.2282\n",
      "Epoch   1 Batch  190/538 - Train Accuracy: 0.8207, Validation Accuracy: 0.8358, Loss: 0.2459\n",
      "Epoch   1 Batch  200/538 - Train Accuracy: 0.8410, Validation Accuracy: 0.8303, Loss: 0.2158\n",
      "Epoch   1 Batch  210/538 - Train Accuracy: 0.8207, Validation Accuracy: 0.8336, Loss: 0.2072\n",
      "Epoch   1 Batch  220/538 - Train Accuracy: 0.8547, Validation Accuracy: 0.8216, Loss: 0.1978\n",
      "Epoch   1 Batch  230/538 - Train Accuracy: 0.8451, Validation Accuracy: 0.8414, Loss: 0.2007\n",
      "Epoch   1 Batch  240/538 - Train Accuracy: 0.8475, Validation Accuracy: 0.8397, Loss: 0.1980\n",
      "Epoch   1 Batch  250/538 - Train Accuracy: 0.8588, Validation Accuracy: 0.8382, Loss: 0.1834\n",
      "Epoch   1 Batch  260/538 - Train Accuracy: 0.8504, Validation Accuracy: 0.8393, Loss: 0.1778\n",
      "Epoch   1 Batch  270/538 - Train Accuracy: 0.8627, Validation Accuracy: 0.8661, Loss: 0.1691\n",
      "Epoch   1 Batch  280/538 - Train Accuracy: 0.8785, Validation Accuracy: 0.8475, Loss: 0.1541\n",
      "Epoch   1 Batch  290/538 - Train Accuracy: 0.8861, Validation Accuracy: 0.8663, Loss: 0.1522\n",
      "Epoch   1 Batch  300/538 - Train Accuracy: 0.8612, Validation Accuracy: 0.8487, Loss: 0.1560\n",
      "Epoch   1 Batch  310/538 - Train Accuracy: 0.8959, Validation Accuracy: 0.8794, Loss: 0.1432\n",
      "Epoch   1 Batch  320/538 - Train Accuracy: 0.8703, Validation Accuracy: 0.8819, Loss: 0.1330\n",
      "Epoch   1 Batch  330/538 - Train Accuracy: 0.8862, Validation Accuracy: 0.8754, Loss: 0.1341\n",
      "Epoch   1 Batch  340/538 - Train Accuracy: 0.8758, Validation Accuracy: 0.8906, Loss: 0.1323\n",
      "Epoch   1 Batch  350/538 - Train Accuracy: 0.8916, Validation Accuracy: 0.9022, Loss: 0.1409\n",
      "Epoch   1 Batch  360/538 - Train Accuracy: 0.8891, Validation Accuracy: 0.8727, Loss: 0.1294\n",
      "Epoch   1 Batch  370/538 - Train Accuracy: 0.9115, Validation Accuracy: 0.8899, Loss: 0.1285\n",
      "Epoch   1 Batch  380/538 - Train Accuracy: 0.9047, Validation Accuracy: 0.8940, Loss: 0.1172\n",
      "Epoch   1 Batch  390/538 - Train Accuracy: 0.8977, Validation Accuracy: 0.8940, Loss: 0.1053\n",
      "Epoch   1 Batch  400/538 - Train Accuracy: 0.9031, Validation Accuracy: 0.8853, Loss: 0.1133\n",
      "Epoch   1 Batch  410/538 - Train Accuracy: 0.8996, Validation Accuracy: 0.8999, Loss: 0.1132\n",
      "Epoch   1 Batch  420/538 - Train Accuracy: 0.9068, Validation Accuracy: 0.9038, Loss: 0.1062\n",
      "Epoch   1 Batch  430/538 - Train Accuracy: 0.9076, Validation Accuracy: 0.8995, Loss: 0.0982\n",
      "Epoch   1 Batch  440/538 - Train Accuracy: 0.8932, Validation Accuracy: 0.9078, Loss: 0.1135\n",
      "Epoch   1 Batch  450/538 - Train Accuracy: 0.9094, Validation Accuracy: 0.8997, Loss: 0.1091\n",
      "Epoch   1 Batch  460/538 - Train Accuracy: 0.8880, Validation Accuracy: 0.8960, Loss: 0.1041\n",
      "Epoch   1 Batch  470/538 - Train Accuracy: 0.9055, Validation Accuracy: 0.9055, Loss: 0.0897\n",
      "Epoch   1 Batch  480/538 - Train Accuracy: 0.9241, Validation Accuracy: 0.8940, Loss: 0.0898\n",
      "Epoch   1 Batch  490/538 - Train Accuracy: 0.9141, Validation Accuracy: 0.9116, Loss: 0.0883\n",
      "Epoch   1 Batch  500/538 - Train Accuracy: 0.9329, Validation Accuracy: 0.9158, Loss: 0.0739\n",
      "Epoch   1 Batch  510/538 - Train Accuracy: 0.9260, Validation Accuracy: 0.9100, Loss: 0.0813\n",
      "Epoch   1 Batch  520/538 - Train Accuracy: 0.8963, Validation Accuracy: 0.9098, Loss: 0.0912\n",
      "Epoch   1 Batch  530/538 - Train Accuracy: 0.8951, Validation Accuracy: 0.9103, Loss: 0.0908\n",
      "Epoch   2 Batch   10/538 - Train Accuracy: 0.9092, Validation Accuracy: 0.9144, Loss: 0.0816\n",
      "Epoch   2 Batch   20/538 - Train Accuracy: 0.9122, Validation Accuracy: 0.9041, Loss: 0.0777\n",
      "Epoch   2 Batch   30/538 - Train Accuracy: 0.9187, Validation Accuracy: 0.9164, Loss: 0.0822\n",
      "Epoch   2 Batch   40/538 - Train Accuracy: 0.9002, Validation Accuracy: 0.9098, Loss: 0.0637\n",
      "Epoch   2 Batch   50/538 - Train Accuracy: 0.9098, Validation Accuracy: 0.9180, Loss: 0.0693\n",
      "Epoch   2 Batch   60/538 - Train Accuracy: 0.9277, Validation Accuracy: 0.9194, Loss: 0.0676\n",
      "Epoch   2 Batch   70/538 - Train Accuracy: 0.9315, Validation Accuracy: 0.9196, Loss: 0.0660\n",
      "Epoch   2 Batch   80/538 - Train Accuracy: 0.9258, Validation Accuracy: 0.9189, Loss: 0.0721\n",
      "Epoch   2 Batch   90/538 - Train Accuracy: 0.9180, Validation Accuracy: 0.9119, Loss: 0.0734\n",
      "Epoch   2 Batch  100/538 - Train Accuracy: 0.9293, Validation Accuracy: 0.9231, Loss: 0.0611\n",
      "Epoch   2 Batch  110/538 - Train Accuracy: 0.9229, Validation Accuracy: 0.9187, Loss: 0.0656\n",
      "Epoch   2 Batch  120/538 - Train Accuracy: 0.9424, Validation Accuracy: 0.9222, Loss: 0.0538\n",
      "Epoch   2 Batch  130/538 - Train Accuracy: 0.9299, Validation Accuracy: 0.9389, Loss: 0.0593\n",
      "Epoch   2 Batch  140/538 - Train Accuracy: 0.9057, Validation Accuracy: 0.9112, Loss: 0.0764\n",
      "Epoch   2 Batch  150/538 - Train Accuracy: 0.9275, Validation Accuracy: 0.9125, Loss: 0.0582\n",
      "Epoch   2 Batch  160/538 - Train Accuracy: 0.9314, Validation Accuracy: 0.9189, Loss: 0.0553\n",
      "Epoch   2 Batch  170/538 - Train Accuracy: 0.9304, Validation Accuracy: 0.9242, Loss: 0.0648\n",
      "Epoch   2 Batch  180/538 - Train Accuracy: 0.9407, Validation Accuracy: 0.9189, Loss: 0.0613\n",
      "Epoch   2 Batch  190/538 - Train Accuracy: 0.9288, Validation Accuracy: 0.9265, Loss: 0.0754\n",
      "Epoch   2 Batch  200/538 - Train Accuracy: 0.9439, Validation Accuracy: 0.9249, Loss: 0.0492\n",
      "Epoch   2 Batch  210/538 - Train Accuracy: 0.9068, Validation Accuracy: 0.9316, Loss: 0.0614\n",
      "Epoch   2 Batch  220/538 - Train Accuracy: 0.9150, Validation Accuracy: 0.9247, Loss: 0.0603\n",
      "Epoch   2 Batch  230/538 - Train Accuracy: 0.9258, Validation Accuracy: 0.9322, Loss: 0.0565\n",
      "Epoch   2 Batch  240/538 - Train Accuracy: 0.9271, Validation Accuracy: 0.9215, Loss: 0.0598\n",
      "Epoch   2 Batch  250/538 - Train Accuracy: 0.9465, Validation Accuracy: 0.9309, Loss: 0.0526\n",
      "Epoch   2 Batch  260/538 - Train Accuracy: 0.9152, Validation Accuracy: 0.9279, Loss: 0.0598\n",
      "Epoch   2 Batch  270/538 - Train Accuracy: 0.9229, Validation Accuracy: 0.9398, Loss: 0.0499\n",
      "Epoch   2 Batch  280/538 - Train Accuracy: 0.9366, Validation Accuracy: 0.9425, Loss: 0.0467\n",
      "Epoch   2 Batch  290/538 - Train Accuracy: 0.9539, Validation Accuracy: 0.9380, Loss: 0.0442\n",
      "Epoch   2 Batch  300/538 - Train Accuracy: 0.9189, Validation Accuracy: 0.9403, Loss: 0.0559\n",
      "Epoch   2 Batch  310/538 - Train Accuracy: 0.9543, Validation Accuracy: 0.9373, Loss: 0.0487\n",
      "Epoch   2 Batch  320/538 - Train Accuracy: 0.9429, Validation Accuracy: 0.9322, Loss: 0.0458\n",
      "Epoch   2 Batch  330/538 - Train Accuracy: 0.9436, Validation Accuracy: 0.9350, Loss: 0.0457\n",
      "Epoch   2 Batch  340/538 - Train Accuracy: 0.9244, Validation Accuracy: 0.9334, Loss: 0.0511\n",
      "Epoch   2 Batch  350/538 - Train Accuracy: 0.9438, Validation Accuracy: 0.9316, Loss: 0.0545\n",
      "Epoch   2 Batch  360/538 - Train Accuracy: 0.9352, Validation Accuracy: 0.9347, Loss: 0.0493\n",
      "Epoch   2 Batch  370/538 - Train Accuracy: 0.9379, Validation Accuracy: 0.9292, Loss: 0.0569\n",
      "Epoch   2 Batch  380/538 - Train Accuracy: 0.9418, Validation Accuracy: 0.9355, Loss: 0.0904\n",
      "Epoch   2 Batch  390/538 - Train Accuracy: 0.9328, Validation Accuracy: 0.9276, Loss: 0.0643\n",
      "Epoch   2 Batch  400/538 - Train Accuracy: 0.9276, Validation Accuracy: 0.9134, Loss: 0.0551\n",
      "Epoch   2 Batch  410/538 - Train Accuracy: 0.9498, Validation Accuracy: 0.9270, Loss: 0.0547\n",
      "Epoch   2 Batch  420/538 - Train Accuracy: 0.9484, Validation Accuracy: 0.9332, Loss: 0.0522\n",
      "Epoch   2 Batch  430/538 - Train Accuracy: 0.9447, Validation Accuracy: 0.9419, Loss: 0.0432\n",
      "Epoch   2 Batch  440/538 - Train Accuracy: 0.9322, Validation Accuracy: 0.9375, Loss: 0.0510\n",
      "Epoch   2 Batch  450/538 - Train Accuracy: 0.9275, Validation Accuracy: 0.9437, Loss: 0.0566\n",
      "Epoch   2 Batch  460/538 - Train Accuracy: 0.9249, Validation Accuracy: 0.9478, Loss: 0.0475\n",
      "Epoch   2 Batch  470/538 - Train Accuracy: 0.9503, Validation Accuracy: 0.9350, Loss: 0.0404\n",
      "Epoch   2 Batch  480/538 - Train Accuracy: 0.9529, Validation Accuracy: 0.9524, Loss: 0.0385\n",
      "Epoch   2 Batch  490/538 - Train Accuracy: 0.9436, Validation Accuracy: 0.9400, Loss: 0.0408\n",
      "Epoch   2 Batch  500/538 - Train Accuracy: 0.9640, Validation Accuracy: 0.9426, Loss: 0.0306\n",
      "Epoch   2 Batch  510/538 - Train Accuracy: 0.9572, Validation Accuracy: 0.9450, Loss: 0.0364\n",
      "Epoch   2 Batch  520/538 - Train Accuracy: 0.9383, Validation Accuracy: 0.9508, Loss: 0.0402\n",
      "Epoch   2 Batch  530/538 - Train Accuracy: 0.9365, Validation Accuracy: 0.9505, Loss: 0.0457\n",
      "Epoch   3 Batch   10/538 - Train Accuracy: 0.9598, Validation Accuracy: 0.9373, Loss: 0.0406\n",
      "Epoch   3 Batch   20/538 - Train Accuracy: 0.9470, Validation Accuracy: 0.9434, Loss: 0.0397\n",
      "Epoch   3 Batch   30/538 - Train Accuracy: 0.9502, Validation Accuracy: 0.9272, Loss: 0.0423\n",
      "Epoch   3 Batch   40/538 - Train Accuracy: 0.9329, Validation Accuracy: 0.9476, Loss: 0.0335\n",
      "Epoch   3 Batch   50/538 - Train Accuracy: 0.9436, Validation Accuracy: 0.9339, Loss: 0.0381\n",
      "Epoch   3 Batch   60/538 - Train Accuracy: 0.9436, Validation Accuracy: 0.9428, Loss: 0.0368\n",
      "Epoch   3 Batch   70/538 - Train Accuracy: 0.9529, Validation Accuracy: 0.9448, Loss: 0.0337\n",
      "Epoch   3 Batch   80/538 - Train Accuracy: 0.9551, Validation Accuracy: 0.9441, Loss: 0.0392\n",
      "Epoch   3 Batch   90/538 - Train Accuracy: 0.9459, Validation Accuracy: 0.9576, Loss: 0.0431\n",
      "Epoch   3 Batch  100/538 - Train Accuracy: 0.9369, Validation Accuracy: 0.9544, Loss: 0.0333\n",
      "Epoch   3 Batch  110/538 - Train Accuracy: 0.9564, Validation Accuracy: 0.9451, Loss: 0.0357\n",
      "Epoch   3 Batch  120/538 - Train Accuracy: 0.9637, Validation Accuracy: 0.9585, Loss: 0.0282\n",
      "Epoch   3 Batch  130/538 - Train Accuracy: 0.9589, Validation Accuracy: 0.9654, Loss: 0.0323\n",
      "Epoch   3 Batch  140/538 - Train Accuracy: 0.9434, Validation Accuracy: 0.9560, Loss: 0.0431\n",
      "Epoch   3 Batch  150/538 - Train Accuracy: 0.9555, Validation Accuracy: 0.9311, Loss: 0.0326\n",
      "Epoch   3 Batch  160/538 - Train Accuracy: 0.9531, Validation Accuracy: 0.9535, Loss: 0.0306\n",
      "Epoch   3 Batch  170/538 - Train Accuracy: 0.9420, Validation Accuracy: 0.9448, Loss: 0.0388\n",
      "Epoch   3 Batch  180/538 - Train Accuracy: 0.9407, Validation Accuracy: 0.9505, Loss: 0.0351\n",
      "Epoch   3 Batch  190/538 - Train Accuracy: 0.9442, Validation Accuracy: 0.9570, Loss: 0.0474\n",
      "Epoch   3 Batch  200/538 - Train Accuracy: 0.9596, Validation Accuracy: 0.9489, Loss: 0.0263\n",
      "Epoch   3 Batch  210/538 - Train Accuracy: 0.9449, Validation Accuracy: 0.9513, Loss: 0.0373\n",
      "Epoch   3 Batch  220/538 - Train Accuracy: 0.9507, Validation Accuracy: 0.9466, Loss: 0.0357\n",
      "Epoch   3 Batch  230/538 - Train Accuracy: 0.9455, Validation Accuracy: 0.9421, Loss: 0.0324\n",
      "Epoch   3 Batch  240/538 - Train Accuracy: 0.9436, Validation Accuracy: 0.9421, Loss: 0.0339\n",
      "Epoch   3 Batch  250/538 - Train Accuracy: 0.9607, Validation Accuracy: 0.9464, Loss: 0.0332\n",
      "Epoch   3 Batch  260/538 - Train Accuracy: 0.9408, Validation Accuracy: 0.9460, Loss: 0.0351\n",
      "Epoch   3 Batch  270/538 - Train Accuracy: 0.9502, Validation Accuracy: 0.9558, Loss: 0.0292\n",
      "Epoch   3 Batch  280/538 - Train Accuracy: 0.9712, Validation Accuracy: 0.9611, Loss: 0.0250\n",
      "Epoch   3 Batch  290/538 - Train Accuracy: 0.9719, Validation Accuracy: 0.9506, Loss: 0.0250\n",
      "Epoch   3 Batch  300/538 - Train Accuracy: 0.9541, Validation Accuracy: 0.9522, Loss: 0.0333\n",
      "Epoch   3 Batch  310/538 - Train Accuracy: 0.9723, Validation Accuracy: 0.9616, Loss: 0.0334\n",
      "Epoch   3 Batch  320/538 - Train Accuracy: 0.9520, Validation Accuracy: 0.9426, Loss: 0.0297\n",
      "Epoch   3 Batch  330/538 - Train Accuracy: 0.9708, Validation Accuracy: 0.9538, Loss: 0.0282\n",
      "Epoch   3 Batch  340/538 - Train Accuracy: 0.9527, Validation Accuracy: 0.9549, Loss: 0.0309\n",
      "Epoch   3 Batch  350/538 - Train Accuracy: 0.9689, Validation Accuracy: 0.9688, Loss: 0.0349\n",
      "Epoch   3 Batch  360/538 - Train Accuracy: 0.9580, Validation Accuracy: 0.9608, Loss: 0.0385\n",
      "Epoch   3 Batch  370/538 - Train Accuracy: 0.9539, Validation Accuracy: 0.9423, Loss: 0.0347\n",
      "Epoch   3 Batch  380/538 - Train Accuracy: 0.9631, Validation Accuracy: 0.9469, Loss: 0.0289\n",
      "Epoch   3 Batch  390/538 - Train Accuracy: 0.9554, Validation Accuracy: 0.9494, Loss: 0.0267\n",
      "Epoch   3 Batch  400/538 - Train Accuracy: 0.9593, Validation Accuracy: 0.9485, Loss: 0.0292\n",
      "Epoch   3 Batch  410/538 - Train Accuracy: 0.9678, Validation Accuracy: 0.9579, Loss: 0.0271\n",
      "Epoch   3 Batch  420/538 - Train Accuracy: 0.9559, Validation Accuracy: 0.9490, Loss: 0.0330\n",
      "Epoch   3 Batch  430/538 - Train Accuracy: 0.9555, Validation Accuracy: 0.9510, Loss: 0.0338\n",
      "Epoch   3 Batch  440/538 - Train Accuracy: 0.9564, Validation Accuracy: 0.9583, Loss: 0.0298\n",
      "Epoch   3 Batch  450/538 - Train Accuracy: 0.9327, Validation Accuracy: 0.9579, Loss: 0.0405\n",
      "Epoch   3 Batch  460/538 - Train Accuracy: 0.9408, Validation Accuracy: 0.9657, Loss: 0.0322\n",
      "Epoch   3 Batch  470/538 - Train Accuracy: 0.9568, Validation Accuracy: 0.9531, Loss: 0.0274\n",
      "Epoch   3 Batch  480/538 - Train Accuracy: 0.9699, Validation Accuracy: 0.9620, Loss: 0.0254\n",
      "Epoch   3 Batch  490/538 - Train Accuracy: 0.9598, Validation Accuracy: 0.9451, Loss: 0.0274\n",
      "Epoch   3 Batch  500/538 - Train Accuracy: 0.9775, Validation Accuracy: 0.9442, Loss: 0.0188\n",
      "Epoch   3 Batch  510/538 - Train Accuracy: 0.9738, Validation Accuracy: 0.9517, Loss: 0.0232\n",
      "Epoch   3 Batch  520/538 - Train Accuracy: 0.9535, Validation Accuracy: 0.9602, Loss: 0.0285\n",
      "Epoch   3 Batch  530/538 - Train Accuracy: 0.9490, Validation Accuracy: 0.9641, Loss: 0.0316\n",
      "Epoch   4 Batch   10/538 - Train Accuracy: 0.9664, Validation Accuracy: 0.9458, Loss: 0.0280\n",
      "Epoch   4 Batch   20/538 - Train Accuracy: 0.9593, Validation Accuracy: 0.9526, Loss: 0.0286\n",
      "Epoch   4 Batch   30/538 - Train Accuracy: 0.9629, Validation Accuracy: 0.9524, Loss: 0.0314\n",
      "Epoch   4 Batch   40/538 - Train Accuracy: 0.9583, Validation Accuracy: 0.9576, Loss: 0.0223\n",
      "Epoch   4 Batch   50/538 - Train Accuracy: 0.9619, Validation Accuracy: 0.9636, Loss: 0.0268\n",
      "Epoch   4 Batch   60/538 - Train Accuracy: 0.9555, Validation Accuracy: 0.9513, Loss: 0.0296\n",
      "Epoch   4 Batch   70/538 - Train Accuracy: 0.9619, Validation Accuracy: 0.9517, Loss: 0.0213\n",
      "Epoch   4 Batch   80/538 - Train Accuracy: 0.9684, Validation Accuracy: 0.9508, Loss: 0.0261\n",
      "Epoch   4 Batch   90/538 - Train Accuracy: 0.9701, Validation Accuracy: 0.9622, Loss: 0.0295\n",
      "Epoch   4 Batch  100/538 - Train Accuracy: 0.9715, Validation Accuracy: 0.9695, Loss: 0.0216\n",
      "Epoch   4 Batch  110/538 - Train Accuracy: 0.9740, Validation Accuracy: 0.9609, Loss: 0.0250\n",
      "Epoch   4 Batch  120/538 - Train Accuracy: 0.9785, Validation Accuracy: 0.9675, Loss: 0.0180\n",
      "Epoch   4 Batch  130/538 - Train Accuracy: 0.9725, Validation Accuracy: 0.9643, Loss: 0.0235\n",
      "Epoch   4 Batch  140/538 - Train Accuracy: 0.9738, Validation Accuracy: 0.9664, Loss: 0.0298\n",
      "Epoch   4 Batch  150/538 - Train Accuracy: 0.9730, Validation Accuracy: 0.9597, Loss: 0.0224\n",
      "Epoch   4 Batch  160/538 - Train Accuracy: 0.9697, Validation Accuracy: 0.9686, Loss: 0.0214\n",
      "Epoch   4 Batch  170/538 - Train Accuracy: 0.9598, Validation Accuracy: 0.9618, Loss: 0.0249\n",
      "Epoch   4 Batch  180/538 - Train Accuracy: 0.9591, Validation Accuracy: 0.9599, Loss: 0.0239\n",
      "Epoch   4 Batch  190/538 - Train Accuracy: 0.9637, Validation Accuracy: 0.9561, Loss: 0.0338\n",
      "Epoch   4 Batch  200/538 - Train Accuracy: 0.9748, Validation Accuracy: 0.9556, Loss: 0.0166\n",
      "Epoch   4 Batch  210/538 - Train Accuracy: 0.9617, Validation Accuracy: 0.9565, Loss: 0.0264\n",
      "Epoch   4 Batch  220/538 - Train Accuracy: 0.9606, Validation Accuracy: 0.9579, Loss: 0.0252\n",
      "Epoch   4 Batch  230/538 - Train Accuracy: 0.9684, Validation Accuracy: 0.9561, Loss: 0.0203\n",
      "Epoch   4 Batch  240/538 - Train Accuracy: 0.9572, Validation Accuracy: 0.9535, Loss: 0.0239\n",
      "Epoch   4 Batch  250/538 - Train Accuracy: 0.9768, Validation Accuracy: 0.9588, Loss: 0.0224\n",
      "Epoch   4 Batch  260/538 - Train Accuracy: 0.9511, Validation Accuracy: 0.9542, Loss: 0.0255\n",
      "Epoch   4 Batch  270/538 - Train Accuracy: 0.9682, Validation Accuracy: 0.9673, Loss: 0.0202\n",
      "Epoch   4 Batch  280/538 - Train Accuracy: 0.9773, Validation Accuracy: 0.9677, Loss: 0.0180\n",
      "Epoch   4 Batch  290/538 - Train Accuracy: 0.9766, Validation Accuracy: 0.9579, Loss: 0.0180\n",
      "Epoch   4 Batch  300/538 - Train Accuracy: 0.9561, Validation Accuracy: 0.9551, Loss: 0.0238\n",
      "Epoch   4 Batch  310/538 - Train Accuracy: 0.9742, Validation Accuracy: 0.9670, Loss: 0.0240\n",
      "Epoch   4 Batch  320/538 - Train Accuracy: 0.9541, Validation Accuracy: 0.9654, Loss: 0.0232\n",
      "Epoch   4 Batch  330/538 - Train Accuracy: 0.9728, Validation Accuracy: 0.9592, Loss: 0.0208\n",
      "Epoch   4 Batch  340/538 - Train Accuracy: 0.9631, Validation Accuracy: 0.9561, Loss: 0.0220\n",
      "Epoch   4 Batch  350/538 - Train Accuracy: 0.9686, Validation Accuracy: 0.9677, Loss: 0.0261\n",
      "Epoch   4 Batch  360/538 - Train Accuracy: 0.9686, Validation Accuracy: 0.9741, Loss: 0.0189\n",
      "Epoch   4 Batch  370/538 - Train Accuracy: 0.9631, Validation Accuracy: 0.9700, Loss: 0.0268\n",
      "Epoch   4 Batch  380/538 - Train Accuracy: 0.9760, Validation Accuracy: 0.9519, Loss: 0.0212\n",
      "Epoch   4 Batch  390/538 - Train Accuracy: 0.9637, Validation Accuracy: 0.9553, Loss: 0.0192\n",
      "Epoch   4 Batch  400/538 - Train Accuracy: 0.9721, Validation Accuracy: 0.9592, Loss: 0.0222\n",
      "Epoch   4 Batch  410/538 - Train Accuracy: 0.9795, Validation Accuracy: 0.9554, Loss: 0.0182\n",
      "Epoch   4 Batch  420/538 - Train Accuracy: 0.9697, Validation Accuracy: 0.9563, Loss: 0.0246\n",
      "Epoch   4 Batch  430/538 - Train Accuracy: 0.9580, Validation Accuracy: 0.9629, Loss: 0.0225\n",
      "Epoch   4 Batch  440/538 - Train Accuracy: 0.9680, Validation Accuracy: 0.9721, Loss: 0.0234\n",
      "Epoch   4 Batch  450/538 - Train Accuracy: 0.9472, Validation Accuracy: 0.9569, Loss: 0.0310\n",
      "Epoch   4 Batch  460/538 - Train Accuracy: 0.9548, Validation Accuracy: 0.9595, Loss: 0.0231\n",
      "Epoch   4 Batch  470/538 - Train Accuracy: 0.9708, Validation Accuracy: 0.9707, Loss: 0.0194\n",
      "Epoch   4 Batch  480/538 - Train Accuracy: 0.9790, Validation Accuracy: 0.9657, Loss: 0.0190\n",
      "Epoch   4 Batch  490/538 - Train Accuracy: 0.9567, Validation Accuracy: 0.9631, Loss: 0.0210\n",
      "Epoch   4 Batch  500/538 - Train Accuracy: 0.9846, Validation Accuracy: 0.9611, Loss: 0.0135\n",
      "Epoch   4 Batch  510/538 - Train Accuracy: 0.9814, Validation Accuracy: 0.9588, Loss: 0.0171\n",
      "Epoch   4 Batch  520/538 - Train Accuracy: 0.9699, Validation Accuracy: 0.9716, Loss: 0.0219\n",
      "Epoch   4 Batch  530/538 - Train Accuracy: 0.9633, Validation Accuracy: 0.9680, Loss: 0.0227\n",
      "Model Trained and Saved\n"
     ]
    }
   ],
   "source": [
    "\"\"\"\n",
    "DON'T MODIFY ANYTHING IN THIS CELL\n",
    "\"\"\"\n",
    "def get_accuracy(target, logits):\n",
    "    \"\"\"\n",
    "    Calculate accuracy\n",
    "    \"\"\"\n",
    "    max_seq = max(target.shape[1], logits.shape[1])\n",
    "    if max_seq - target.shape[1]:\n",
    "        target = np.pad(\n",
    "            target,\n",
    "            [(0,0),(0,max_seq - target.shape[1])],\n",
    "            'constant')\n",
    "    if max_seq - logits.shape[1]:\n",
    "        logits = np.pad(\n",
    "            logits,\n",
    "            [(0,0),(0,max_seq - logits.shape[1])],\n",
    "            'constant')\n",
    "\n",
    "    return np.mean(np.equal(target, logits))\n",
    "\n",
    "# Split data to training and validation sets\n",
    "train_source = source_int_text[batch_size:]\n",
    "train_target = target_int_text[batch_size:]\n",
    "valid_source = source_int_text[:batch_size]\n",
    "valid_target = target_int_text[:batch_size]\n",
    "(valid_sources_batch, valid_targets_batch, valid_sources_lengths, valid_targets_lengths ) = next(get_batches(valid_source,\n",
    "                                                                                                             valid_target,\n",
    "                                                                                                             batch_size,\n",
    "                                                                                                             source_vocab_to_int['<PAD>'],\n",
    "                                                                                                             target_vocab_to_int['<PAD>']))                                                                                                  \n",
    "with tf.Session(graph=train_graph) as sess:\n",
    "    sess.run(tf.global_variables_initializer())\n",
    "\n",
    "    for epoch_i in range(epochs):\n",
    "        for batch_i, (source_batch, target_batch, sources_lengths, targets_lengths) in enumerate(\n",
    "                get_batches(train_source, train_target, batch_size,\n",
    "                            source_vocab_to_int['<PAD>'],\n",
    "                            target_vocab_to_int['<PAD>'])):\n",
    "\n",
    "            _, loss = sess.run(\n",
    "                [train_op, cost],\n",
    "                {input_data: source_batch,\n",
    "                 targets: target_batch,\n",
    "                 lr: learning_rate,\n",
    "                 target_sequence_length: targets_lengths,\n",
    "                 source_sequence_length: sources_lengths,\n",
    "                 keep_prob: keep_probability})\n",
    "\n",
    "\n",
    "            if batch_i % display_step == 0 and batch_i > 0:\n",
    "\n",
    "\n",
    "                batch_train_logits = sess.run(\n",
    "                    inference_logits,\n",
    "                    {input_data: source_batch,\n",
    "                     source_sequence_length: sources_lengths,\n",
    "                     target_sequence_length: targets_lengths,\n",
    "                     keep_prob: 1.0})\n",
    "\n",
    "\n",
    "                batch_valid_logits = sess.run(\n",
    "                    inference_logits,\n",
    "                    {input_data: valid_sources_batch,\n",
    "                     source_sequence_length: valid_sources_lengths,\n",
    "                     target_sequence_length: valid_targets_lengths,\n",
    "                     keep_prob: 1.0})\n",
    "\n",
    "                train_acc = get_accuracy(target_batch, batch_train_logits)\n",
    "\n",
    "                valid_acc = get_accuracy(valid_targets_batch, batch_valid_logits)\n",
    "\n",
    "                print('Epoch {:>3} Batch {:>4}/{} - Train Accuracy: {:>6.4f}, Validation Accuracy: {:>6.4f}, Loss: {:>6.4f}'\n",
    "                      .format(epoch_i, batch_i, len(source_int_text) // batch_size, train_acc, valid_acc, loss))\n",
    "\n",
    "    # Save Model\n",
    "    saver = tf.train.Saver()\n",
    "    saver.save(sess, save_path)\n",
    "    print('Model Trained and Saved')"
   ]
  },
  {
   "cell_type": "markdown",
   "metadata": {
    "deletable": true,
    "editable": true
   },
   "source": [
    "### Save Parameters\n",
    "Save the `batch_size` and `save_path` parameters for inference."
   ]
  },
  {
   "cell_type": "code",
   "execution_count": 20,
   "metadata": {
    "collapsed": true,
    "deletable": true,
    "editable": true
   },
   "outputs": [],
   "source": [
    "\"\"\"\n",
    "DON'T MODIFY ANYTHING IN THIS CELL\n",
    "\"\"\"\n",
    "# Save parameters for checkpoint\n",
    "helper.save_params(save_path)"
   ]
  },
  {
   "cell_type": "markdown",
   "metadata": {
    "deletable": true,
    "editable": true
   },
   "source": [
    "# Checkpoint"
   ]
  },
  {
   "cell_type": "code",
   "execution_count": 21,
   "metadata": {
    "collapsed": true,
    "deletable": true,
    "editable": true
   },
   "outputs": [],
   "source": [
    "\"\"\"\n",
    "DON'T MODIFY ANYTHING IN THIS CELL\n",
    "\"\"\"\n",
    "import tensorflow as tf\n",
    "import numpy as np\n",
    "import helper\n",
    "import problem_unittests as tests\n",
    "\n",
    "_, (source_vocab_to_int, target_vocab_to_int), (source_int_to_vocab, target_int_to_vocab) = helper.load_preprocess()\n",
    "load_path = helper.load_params()"
   ]
  },
  {
   "cell_type": "markdown",
   "metadata": {
    "deletable": true,
    "editable": true
   },
   "source": [
    "## Sentence to Sequence\n",
    "To feed a sentence into the model for translation, you first need to preprocess it.  Implement the function `sentence_to_seq()` to preprocess new sentences.\n",
    "\n",
    "- Convert the sentence to lowercase\n",
    "- Convert words into ids using `vocab_to_int`\n",
    " - Convert words not in the vocabulary, to the `<UNK>` word id."
   ]
  },
  {
   "cell_type": "code",
   "execution_count": 22,
   "metadata": {
    "collapsed": false,
    "deletable": true,
    "editable": true
   },
   "outputs": [
    {
     "name": "stdout",
     "output_type": "stream",
     "text": [
      "Tests Passed\n"
     ]
    }
   ],
   "source": [
    "def sentence_to_seq(sentence, vocab_to_int):\n",
    "    \"\"\"\n",
    "    Convert a sentence to a sequence of ids\n",
    "    :param sentence: String\n",
    "    :param vocab_to_int: Dictionary to go from the words to an id\n",
    "    :return: List of word ids\n",
    "    \"\"\"\n",
    "    sentence = sentence.lower()\n",
    "    words = sentence.split()\n",
    "    word_id_list = [vocab_to_int.get(word, vocab_to_int['<UNK>']) for word in words]\n",
    "    return word_id_list\n",
    "\n",
    "\n",
    "\"\"\"\n",
    "DON'T MODIFY ANYTHING IN THIS CELL THAT IS BELOW THIS LINE\n",
    "\"\"\"\n",
    "tests.test_sentence_to_seq(sentence_to_seq)"
   ]
  },
  {
   "cell_type": "markdown",
   "metadata": {
    "deletable": true,
    "editable": true
   },
   "source": [
    "## Translate\n",
    "This will translate `translate_sentence` from English to French."
   ]
  },
  {
   "cell_type": "code",
   "execution_count": 23,
   "metadata": {
    "collapsed": false,
    "deletable": true,
    "editable": true
   },
   "outputs": [
    {
     "name": "stdout",
     "output_type": "stream",
     "text": [
      "INFO:tensorflow:Restoring parameters from checkpoints/dev\n",
      "Input\n",
      "  Word Ids:      [176, 37, 132, 156, 60, 188, 11]\n",
      "  English Words: ['he', 'saw', 'a', 'old', 'yellow', 'truck', '.']\n",
      "\n",
      "Prediction\n",
      "  Word Ids:      [77, 331, 134, 191, 323, 180, 1]\n",
      "  French Words: il a vu un vieux camion <EOS>\n"
     ]
    }
   ],
   "source": [
    "translate_sentence = 'he saw a old yellow truck .'\n",
    "\n",
    "\n",
    "\"\"\"\n",
    "DON'T MODIFY ANYTHING IN THIS CELL\n",
    "\"\"\"\n",
    "translate_sentence = sentence_to_seq(translate_sentence, source_vocab_to_int)\n",
    "\n",
    "loaded_graph = tf.Graph()\n",
    "with tf.Session(graph=loaded_graph) as sess:\n",
    "    # Load saved model\n",
    "    loader = tf.train.import_meta_graph(load_path + '.meta')\n",
    "    loader.restore(sess, load_path)\n",
    "\n",
    "    input_data = loaded_graph.get_tensor_by_name('input:0')\n",
    "    logits = loaded_graph.get_tensor_by_name('predictions:0')\n",
    "    target_sequence_length = loaded_graph.get_tensor_by_name('target_sequence_length:0')\n",
    "    source_sequence_length = loaded_graph.get_tensor_by_name('source_sequence_length:0')\n",
    "    keep_prob = loaded_graph.get_tensor_by_name('keep_prob:0')\n",
    "\n",
    "    translate_logits = sess.run(logits, {input_data: [translate_sentence]*batch_size,\n",
    "                                         target_sequence_length: [len(translate_sentence)*2]*batch_size,\n",
    "                                         source_sequence_length: [len(translate_sentence)]*batch_size,\n",
    "                                         keep_prob: 1.0})[0]\n",
    "\n",
    "print('Input')\n",
    "print('  Word Ids:      {}'.format([i for i in translate_sentence]))\n",
    "print('  English Words: {}'.format([source_int_to_vocab[i] for i in translate_sentence]))\n",
    "\n",
    "print('\\nPrediction')\n",
    "print('  Word Ids:      {}'.format([i for i in translate_logits]))\n",
    "print('  French Words: {}'.format(\" \".join([target_int_to_vocab[i] for i in translate_logits])))\n"
   ]
  },
  {
   "cell_type": "markdown",
   "metadata": {
    "deletable": true,
    "editable": true
   },
   "source": [
    "## Imperfect Translation\n",
    "You might notice that some sentences translate better than others.  Since the dataset you're using only has a vocabulary of 227 English words of the thousands that you use, you're only going to see good results using these words.  For this project, you don't need a perfect translation. However, if you want to create a better translation model, you'll need better data.\n",
    "\n",
    "You can train on the [WMT10 French-English corpus](http://www.statmt.org/wmt10/training-giga-fren.tar).  This dataset has more vocabulary and richer in topics discussed.  However, this will take you days to train, so make sure you've a GPU and the neural network is performing well on dataset we provided.  Just make sure you play with the WMT10 corpus after you've submitted this project.\n",
    "## Submitting This Project\n",
    "When submitting this project, make sure to run all the cells before saving the notebook. Save the notebook file as \"dlnd_language_translation.ipynb\" and save it as a HTML file under \"File\" -> \"Download as\". Include the \"helper.py\" and \"problem_unittests.py\" files in your submission."
   ]
  }
 ],
 "metadata": {
  "anaconda-cloud": {},
  "kernelspec": {
   "display_name": "Python 3",
   "language": "python",
   "name": "python3"
  },
  "language_info": {
   "codemirror_mode": {
    "name": "ipython",
    "version": 3
   },
   "file_extension": ".py",
   "mimetype": "text/x-python",
   "name": "python",
   "nbconvert_exporter": "python",
   "pygments_lexer": "ipython3",
   "version": "3.5.2"
  },
  "widgets": {
   "state": {},
   "version": "1.1.2"
  }
 },
 "nbformat": 4,
 "nbformat_minor": 1
}
